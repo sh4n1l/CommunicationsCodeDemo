{
 "cells": [
  {
   "cell_type": "code",
   "execution_count": null,
   "metadata": {},
   "outputs": [],
   "source": [
    "import numpy as np\n",
    "import pandas as pd\n",
    "import matplotlib.pyplot as plt\n",
    "import datetime\n",
    "import seaborn as sns"
   ]
  },
  {
   "cell_type": "markdown",
   "metadata": {},
   "source": [
    "Raw Data Initial Cleaning"
   ]
  },
  {
   "cell_type": "code",
   "execution_count": null,
   "metadata": {},
   "outputs": [],
   "source": [
    "#Central research question: How Many outlier players to have an outlier team?\n",
    "\n",
    "nba = pd.read_excel(\"NBA_Stats_71_Years_Updated.xlsx\")"
   ]
  },
  {
   "cell_type": "code",
   "execution_count": null,
   "metadata": {},
   "outputs": [],
   "source": [
    "print(\"Total Dataframe null counts\\n\\n\", nba.isnull().sum())"
   ]
  },
  {
   "cell_type": "code",
   "execution_count": null,
   "metadata": {},
   "outputs": [],
   "source": [
    "print(\"Total Dataframe info\\n\\n\",nba.info())"
   ]
  },
  {
   "cell_type": "code",
   "execution_count": null,
   "metadata": {},
   "outputs": [],
   "source": [
    "#Creating a function incase we need to find players later\n",
    "def findPlayer(s):\n",
    "    return nba.loc[nba[\"Player\"]==s]"
   ]
  },
  {
   "cell_type": "code",
   "execution_count": null,
   "metadata": {},
   "outputs": [],
   "source": [
    "#Raw Data + turning it into regular season / playoff\n",
    "nba = pd.read_excel(\"NBA_Stats_71_Years_Updated.xlsx\")\n",
    "\n",
    "regInd = np.where(nba[\"Season Type\"] == \"Regular Season\")\n",
    "playInd = np.where(nba[\"Season Type\"] == \"Playoffs\")\n",
    "\n",
    "nbaRegular = nba.iloc[regInd[0],:]\n",
    "nbaPlayoff = nba.iloc[playInd[0],:]"
   ]
  },
  {
   "cell_type": "code",
   "execution_count": null,
   "metadata": {},
   "outputs": [],
   "source": [
    "print(\"Null counts from regular season df\\n\", nbaRegular.isnull().sum())"
   ]
  },
  {
   "cell_type": "code",
   "execution_count": null,
   "metadata": {},
   "outputs": [],
   "source": [
    "print(\"Regular season Info:\")\n",
    "nbaRegular.info()"
   ]
  },
  {
   "cell_type": "code",
   "execution_count": null,
   "metadata": {},
   "outputs": [],
   "source": [
    "print(\"Null counts from Playoff df:\\n\", nbaRegular.isnull().sum())"
   ]
  },
  {
   "cell_type": "code",
   "execution_count": null,
   "metadata": {},
   "outputs": [],
   "source": [
    "print(\"Playoff Info:\")\n",
    "nbaRegular.info()"
   ]
  },
  {
   "cell_type": "markdown",
   "metadata": {},
   "source": [
    "Adding columns - and removing nan Rows - from the two dataframes"
   ]
  },
  {
   "cell_type": "code",
   "execution_count": null,
   "metadata": {},
   "outputs": [],
   "source": [
    "#Regular Season: Immediately add columns for calculation of PPS\n",
    "\n",
    "nbaRegular[\"2-Pt FG Attempts\"] = (nbaRegular[\"FG Attempts\"] - nbaRegular[\"3-Pt FG Attempts\"])\n",
    "nbaRegular[\"2-Pt FG Made\"] = nbaRegular[\"FG Made\"] - nbaRegular[\"3-Pt FG Made\"]\n",
    "nbaRegular[\"EFG\"] = (nbaRegular[\"2-Pt FG Made\"] + (1.5*nbaRegular[\"3-Pt FG Made\"])) / nbaRegular[\"FG Attempts\"]\n",
    "\n",
    "#points - free throws, since missed attempts do not count. Could divide free throw attempts by 2 but feels unintuitive. \n",
    "nbaRegular[\"Points-FT\"] = nbaRegular[\"Points Scored\"] - nbaRegular[\"FT Made\"]\n",
    "nbaRegular[\"PPS\"] = nbaRegular[\"Points-FT\"] / nbaRegular[\"FG Attempts\"] #Points per shot\n",
    "\n",
    "nbaRegular[\"FGA/Game\"] = nbaRegular[\"FG Attempts\"] / nbaRegular[\"Games Played\"]\n",
    "\n",
    "nbaRegular[\"Year\"] = nbaRegular[\"Year\"].astype(\"string\")\n",
    "nbaRegular[\"Team ID\"] = nbaRegular[\"Team ID\"].astype(\"string\")\n",
    "\n",
    "nbaRegular[\"FT/Game\"] = nbaRegular[\"FT Attempts\"] / nbaRegular[\"Games Played\"]"
   ]
  },
  {
   "cell_type": "code",
   "execution_count": null,
   "metadata": {},
   "outputs": [],
   "source": [
    "#Playoff : Immediately add columns for calculation of PPS\n",
    "\n",
    "nbaPlayoff[\"2-Pt FG Attempts\"] = (nbaPlayoff[\"FG Attempts\"] - nbaPlayoff[\"3-Pt FG Attempts\"])\n",
    "nbaPlayoff[\"2-Pt FG Made\"] = nbaPlayoff[\"FG Made\"] - nbaPlayoff[\"3-Pt FG Made\"]\n",
    "nbaPlayoff[\"EFG\"] = (nbaPlayoff[\"2-Pt FG Made\"] + (1.5*nbaPlayoff[\"3-Pt FG Made\"])) / nbaPlayoff[\"FG Attempts\"]\n",
    "\n",
    "#points - free throws, since missed attempts do not count. Could divide free throw attempts by 2 but feels unintuitive. \n",
    "\n",
    "nbaPlayoff[\"Points-FT\"] = nbaPlayoff[\"Points Scored\"] - nbaPlayoff[\"FT Made\"]\n",
    "nbaPlayoff[\"PPS\"] = nbaPlayoff[\"Points-FT\"] / nbaPlayoff[\"FG Attempts\"] #Points per shot\n",
    "\n",
    "nbaPlayoff[\"FGA/Game\"] = nbaPlayoff[\"FG Attempts\"] / nbaPlayoff[\"Games Played\"]\n",
    "\n",
    "\n",
    "nbaPlayoff[\"Year\"] = nbaPlayoff[\"Year\"].astype(\"string\")\n",
    "nbaPlayoff[\"Team ID\"] = nbaPlayoff[\"Team ID\"].astype(\"string\")\n",
    "\n",
    "nbaPlayoff[\"FT/Game\"] = nbaPlayoff[\"FT Attempts\"] / nbaPlayoff[\"Games Played\"]"
   ]
  },
  {
   "cell_type": "code",
   "execution_count": null,
   "metadata": {},
   "outputs": [],
   "source": [
    "# rows_to_remove = np.where(nbaRegular[\"PPS\"] == np.nan)\n",
    "# # Removing the specified rows from the DataFrame\n",
    "# nbaRegular = nbaRegular.drop(rows_to_remove[0])\n",
    "\n",
    "# rows_to_remove = np.where(nbaPlayoff[\"PPS\"] == np.nan)\n",
    "# # Removing the specified rows from the DataFrame\n",
    "# nbaPlayoff = nbaPlayoff.drop(rows_to_remove[0])"
   ]
  },
  {
   "cell_type": "markdown",
   "metadata": {},
   "source": [
    "Initial EDA on Regular Season, Exploring Correlations with our Features"
   ]
  },
  {
   "cell_type": "code",
   "execution_count": null,
   "metadata": {},
   "outputs": [],
   "source": [
    "fig,ax=plt.subplots(figsize=(14,8))\n",
    "\n",
    "C = nbaRegular.corr()\n",
    "#set figure size\n",
    "ax.set_title(\"Correlation of Regular Season Metrics\",fontsize=14,weight=\"bold\")\n",
    "\n",
    "#plot heatmap\n",
    "ax = sns.heatmap(C)\n",
    "plt.show"
   ]
  },
  {
   "cell_type": "code",
   "execution_count": null,
   "metadata": {},
   "outputs": [],
   "source": [
    "print(\"Regular season Point per shot description:\",end=\"\\n\")\n",
    "print(nbaRegular.loc[:,\"PPS\"].describe(),end=\"\\n\\n\")\n",
    "print(\"-----------------------------\",end=\"\\n\\n\")\n",
    "print(\"Raw Correlation Value of all columns with Points per Shot:\")\n",
    "print(C[\"PPS\"])\n",
    "print(\"Notably\")"
   ]
  },
  {
   "cell_type": "code",
   "execution_count": null,
   "metadata": {},
   "outputs": [],
   "source": [
    "print(\"Regular season Free Throw Attempts description:\",end=\"\\n\")\n",
    "print(nbaRegular.loc[:,\"FT Attempts\"].describe(),end=\"\\n\\n\")\n",
    "print(\"-----------------------------\",end=\"\\n\\n\")\n",
    "\n",
    "print(\"Raw Correlation Value of all columns with FT Attempts:\")\n",
    "C[\"FT Attempts\"]"
   ]
  },
  {
   "cell_type": "code",
   "execution_count": null,
   "metadata": {},
   "outputs": [],
   "source": [
    "print(\"Regular season Field Goal Attempts description:\",end=\"\\n\")\n",
    "print(nbaRegular.loc[:,\"FG Attempts\"].describe(),end=\"\\n\\n\")\n",
    "print(\"-----------------------------\",end=\"\\n\\n\")\n",
    "print(\"Raw Correlation Value of all columns with FG Attempts:\")\n",
    "\n",
    "C[\"FG Attempts\"]"
   ]
  },
  {
   "cell_type": "markdown",
   "metadata": {},
   "source": [
    "Initial EDA on Playoff Data, Exploring Correlations with our Features"
   ]
  },
  {
   "cell_type": "code",
   "execution_count": null,
   "metadata": {},
   "outputs": [],
   "source": [
    "fig,ax=plt.subplots(figsize=(14,8))\n",
    "\n",
    "C2 = nbaPlayoff.corr()\n",
    "#set figure size\n",
    "\n",
    "#plot heatmap\n",
    "ax.set_title(\"Correlation of Playoff Metrics\",fontsize=14,weight=\"bold\"\n",
    "             )\n",
    "ax = sns.heatmap(C)\n",
    "plt.show"
   ]
  },
  {
   "cell_type": "code",
   "execution_count": null,
   "metadata": {},
   "outputs": [],
   "source": [
    "print(\"Playoff Point per shot description:\",end=\"\\n\")\n",
    "print(nbaPlayoff.loc[:,\"PPS\"].describe(),end=\"\\n\\n\")\n",
    "print(\"-----------------------------\",end=\"\\n\\n\")\n",
    "print(\"Raw Correlation Value of all columns with Points per Shot:\")\n",
    "C2[\"PPS\"]"
   ]
  },
  {
   "cell_type": "code",
   "execution_count": null,
   "metadata": {},
   "outputs": [],
   "source": [
    "print(\"Playoff Free Throw Attempts description:\",end=\"\\n\")\n",
    "print(nbaPlayoff.loc[:,\"FT Attempts\"].describe(),end=\"\\n\\n\")\n",
    "print(\"-----------------------------\",end=\"\\n\\n\")\n",
    "print(\"Raw Correlation Value of all columns with FT Attempts:\")\n",
    "C2[\"FT Attempts\"]"
   ]
  },
  {
   "cell_type": "code",
   "execution_count": null,
   "metadata": {},
   "outputs": [],
   "source": [
    "print(\"Playoff Field Goal Attempts description:\",end=\"\\n\")\n",
    "print(nbaPlayoff.loc[:,\"FG Attempts\"].describe(),end=\"\\n\\n\")\n",
    "print(\"-----------------------------\",end=\"\\n\\n\")\n",
    "print(\"Raw Correlation Value of all columns with FG Attempts:\")\n",
    "\n",
    "C2[\"FG Attempts\"]"
   ]
  },
  {
   "cell_type": "markdown",
   "metadata": {},
   "source": [
    "Removing nan rows"
   ]
  },
  {
   "cell_type": "code",
   "execution_count": null,
   "metadata": {},
   "outputs": [],
   "source": [
    "rows_to_remove = np.where(nbaRegular[\"PPS\"] == np.nan)\n",
    "# Removing the specified rows from the DataFrame\n",
    "nbaRegular = nbaRegular.drop(rows_to_remove[0])\n",
    "\n",
    "rows_to_remove = np.where(nbaPlayoff[\"PPS\"] == np.nan)\n",
    "# Removing the specified rows from the DataFrame\n",
    "nbaPlayoff = nbaPlayoff.drop(rows_to_remove[0])"
   ]
  },
  {
   "cell_type": "markdown",
   "metadata": {},
   "source": [
    "Why are we considering PPS a feature?\n",
    "To answer this, let's start with the definition of the given \"efficiency\" metric, from the kaggle dataframe... \n",
    "\n",
    "\"Efficency: (Points Scored + Rebounds + Assists + Steals + Blocks - Missed FG - Missed FT - Turnovers) / Games Played\"\n",
    "\n",
    "Reason 1. The provided efficiency metric measures many different types of events, as rebounds, steals, blocks, turnovers, and games played are completely separate events in the sport.\n",
    "Reason 2. In basketball, you win by scoring more points. Every other type of event (rebound, steal, block, etc.) is an event that ends up leading to a shot - FG or FT attempt - later.\n",
    "Reason 3. The given formula is unneccesarily long and unintuitive!\n",
    "\n",
    "So this leads us to, why use points per shot (PPS) as a measure of efficiency?\n",
    "Well, going back to reason 2, if the purpose of the sport is to score more points than the opponent, we want to focus on events that involve scoring points - field goal and free throw attempts.\n",
    "\n",
    "PPS = (Total Points Scored - Free Throw Made) / Field Goal Attempts\n",
    "\n",
    "So why remove Free throws from our total points scored, if our goal is to measure events that invovle scoring points? \n",
    "This gets into the rules of the sport itself, but free throws are not taken during the regular game. Free Throws are a penalty shot, and the game and time stops when a free throw is taken. Thus, by removing free throws, we can focus on only the events that occur during the regular game/time.\n",
    "Ultimately, by removing made free throws from the numerator of points per shot, we can end up with a metric that only measures events from when a player is shooting the ball during regular play, i.e. the game of basketball itself. \n",
    "\n",
    "In the end, points per shot is a simple formula essentially the expected value -in points- for a player every time they shoot the ball. It is normalized to one attempt, and thus regardless of whether a player takes 1000 or 100 attempts, the PPS formula will hold true. There is the case where if a player takes one 3-pointer and makes it, their PPS would be 3 (very high), and this led us to define player outliers the way we did. (contribute at least )\n",
    "\n",
    "Free throws we will measure as a completely separate metric. "
   ]
  },
  {
   "cell_type": "markdown",
   "metadata": {},
   "source": [
    "Notes/Outline for our presentation/plots:\n",
    "\n",
    "How do we make our team better? in order to answer that question, --> Does a good player make a good team? \n",
    "BECAUSE BETTER TEAM = MORE TICKET SALES, SPONSORS, ETC.\n",
    "\n",
    "Slide 1 = Introduce the market size, profit, etc. of the nba (Could be like Lec 5 slide 54)\n",
    "Slide 2 = Then prove why making a team better = more profit. (Better team = more app engagement, views, sponsors, etc.)\n",
    "\n",
    "##ONLY PLOT DIFFERENCES FROM THE MEDIAN, NOT THE RAW VALUES BECAUSE MEDIAN CHANGES EVERY YEQAR\n",
    "\n",
    "Hypothesis is that outlier players make teams better.\n",
    "\n",
    "#           1. What does an average player do? What does an average team do? (Per year) [Scatter plot of years and teams ; Subplot next to eachother]\n",
    "#           Next step. Quantile those PPS average per player and team, look at only look at above median PPS players\n",
    "#            2. Do top outlier teams always have top outlier players? (This answers how do we make our team better) (Table of all top outlier teams, and then a yes or no on whether they contain top outlier players) (Sum/Aggregate of all year) [Count barplot of Teams with top player (Yes), versus without a star player (No)]\n",
    "#           For example, if only 50% of top outlier teams have outlier players, that means theres not a strong correlation between having a top player and being a top team (Would expect there to be top players on top teams)\n",
    "#           Versus, if 90% of top outlier teams ghave top outlier players, that means in order to be a top team, you need a top player.\n",
    "#           2b. Similarly, we check the same yes or no for having 2 top outlier players. (Sum/Aggregate of all years) [Subplot or not, but similar just a barplot of counts. Top teams with 2 top players (yes), versus top teams without 2 top players (no)] (Put 2 players and 1 player count histogram next to eachother)\n",
    "\n",
    "#           3. Average free throw attempts (order may change). Plot free throw attempts of top players, because there is a clear trend that top players take significantly more free throws than other teams. (Relate free throws back to points per shot)\n"
   ]
  },
  {
   "cell_type": "markdown",
   "metadata": {},
   "source": [
    "Team Data: Team PPS Per Year (Regular Season)"
   ]
  },
  {
   "cell_type": "code",
   "execution_count": null,
   "metadata": {},
   "outputs": [],
   "source": [
    "#Regular Season: More cleaning of data for team pps per year\n",
    "teamPPS_perYear = nbaRegular.groupby(['Year', 'Team'])[\"Points-FT\",\"FG Attempts\"] #Fix team PPS because this only take smedian of plauyer\n",
    "teamPPS_perTeam = nbaRegular.groupby(['Team', 'Year'])[\"Points-FT\",\"FG Attempts\"]\n",
    "\n",
    "uniqueYear = nbaRegular[\"Year\"].unique()\n",
    "\n",
    "nbaRegular[\"Player Median PPS this Year\"] = np.nan\n",
    "nbaRegular[\"This Teams PPS this Year\"] = np.nan"
   ]
  },
  {
   "cell_type": "code",
   "execution_count": null,
   "metadata": {},
   "outputs": [],
   "source": [
    "#Regular Season: Gets team PPS and assigns to a new column\n",
    "\n",
    "for i in teamPPS_perTeam.groups:\n",
    "    thisGroup = teamPPS_perTeam.get_group(i)\n",
    "    for j in nbaRegular.index:\n",
    "        if nbaRegular.loc[j,\"Year\"] == i[1]:\n",
    "                if nbaRegular.loc[j,\"Team\"] == i[0]: #0 0 = Team ; 0,1 = team\n",
    "                    thisFGA_sum = np.sum(thisGroup[\"FG Attempts\"])\n",
    "                    thisPt_sum = np.sum(thisGroup[\"Points-FT\"])\n",
    "                    nbaRegular.loc[j,\"This Teams PPS this Year\"] = thisPt_sum / thisFGA_sum"
   ]
  },
  {
   "cell_type": "markdown",
   "metadata": {},
   "source": [
    "Team Data: Team PPS Per Year (Playoff)"
   ]
  },
  {
   "cell_type": "code",
   "execution_count": null,
   "metadata": {},
   "outputs": [],
   "source": [
    "#Playoff: More cleaning of data for team pps per year\n",
    "teamPPS_perYear_playoff = nbaPlayoff.groupby(['Year', 'Team'])[\"Points-FT\",\"FG Attempts\"] #Add Points & FGA-FT to groupBy\n",
    "teamPPS_perTeam_playoff = nbaPlayoff.groupby(['Team', 'Year'])[\"Points-FT\",\"FG Attempts\"]\n",
    "\n",
    "uniqueYear_playoff = nbaPlayoff[\"Year\"].unique()\n",
    "\n",
    "nbaPlayoff[\"Player Median PPS this Year\"] = np.nan\n",
    "nbaPlayoff[\"This Teams PPS this Year\"] = np.nan"
   ]
  },
  {
   "cell_type": "code",
   "execution_count": null,
   "metadata": {},
   "outputs": [],
   "source": [
    "# Playoff: Gets team PPS and assigns to a new column\n",
    "\n",
    "for i in teamPPS_perTeam_playoff.groups:\n",
    "    thisGroup = teamPPS_perTeam_playoff.get_group(i)\n",
    "    for j in nbaPlayoff.index:\n",
    "        if nbaPlayoff.loc[j,\"Year\"] == i[1]:\n",
    "                if nbaPlayoff.loc[j,\"Team\"] == i[0]: #0 0 = Team ; 0,1 = team\n",
    "                    thisFGA_sum = np.sum(thisGroup[\"FG Attempts\"])\n",
    "                    thisPt_sum = np.sum(thisGroup[\"Points-FT\"])\n",
    "                    nbaPlayoff.loc[j,\"This Teams PPS this Year\"] = thisPt_sum / thisFGA_sum"
   ]
  },
  {
   "cell_type": "markdown",
   "metadata": {},
   "source": [
    "Defining Outlier Teams (75th percentile in TEAM PPS within their respective year) (Playoff + reg)"
   ]
  },
  {
   "cell_type": "code",
   "execution_count": null,
   "metadata": {},
   "outputs": [],
   "source": [
    "teamPPS_groupPlayoff = nbaPlayoff.groupby(\"Year\")[\"This Teams PPS this Year\"]\n",
    "nbaPlayoff[\"This Year Median Team PPS\"] = np.nan\n",
    "for i in teamPPS_groupPlayoff.groups:\n",
    "    thisGroup = teamPPS_groupPlayoff.get_group(i)\n",
    "    for j in nbaPlayoff.index:\n",
    "        if nbaPlayoff.loc[j,\"Year\"] == i:\n",
    "            this75 = thisGroup.median()\n",
    "            nbaPlayoff.loc[j,\"This Year Median Team PPS\"] = this75"
   ]
  },
  {
   "cell_type": "code",
   "execution_count": null,
   "metadata": {},
   "outputs": [],
   "source": [
    "teamPPS_groupReg = nbaRegular.groupby(\"Year\")[\"This Teams PPS this Year\"]\n",
    "nbaRegular[\"This Year Median Team PPS\"] = np.nan\n",
    "for i in teamPPS_groupReg.groups:\n",
    "    thisGroup = teamPPS_groupReg.get_group(i)\n",
    "    for j in nbaRegular.index:\n",
    "        if nbaRegular.loc[j,\"Year\"] == i:\n",
    "            this75 = thisGroup.median()\n",
    "            nbaRegular.loc[j,\"This Year Median Team PPS\"] = this75"
   ]
  },
  {
   "cell_type": "markdown",
   "metadata": {},
   "source": [
    "Shot Attempts percentile (Playoff+Reg)"
   ]
  },
  {
   "cell_type": "code",
   "execution_count": null,
   "metadata": {},
   "outputs": [],
   "source": [
    "#75% of shots per year\n",
    "perYear_FGAplayoff = nbaPlayoff.groupby(\"Year\")[\"FG Attempts\",\"Games Played\"] \n",
    "\n",
    "FGA75_perGame_playoff = {}\n",
    "FGAmed_perGame_playoff = {}\n",
    "for i in perYear_FGAplayoff.groups:\n",
    "    FGA75_perGame_playoff[i] = (perYear_FGAplayoff.get_group(i)[\"FG Attempts\"] / perYear_FGAplayoff.get_group(i)[\"Games Played\"]).quantile([.75])\n",
    "\n",
    "nbaPlayoff[\"This Year 75% FGA/Game\"] = np.nan\n",
    "for i in FGA75_perGame_playoff: #Loop thru years/keys\n",
    "    for j in nbaPlayoff.index:\n",
    "        if i == nbaPlayoff.loc[j,\"Year\"]:\n",
    "            nbaPlayoff.loc[j,\"This Year 75% FGA/Game\"] = FGA75_perGame_playoff[i][.75]"
   ]
  },
  {
   "cell_type": "code",
   "execution_count": null,
   "metadata": {},
   "outputs": [],
   "source": [
    "#75% of shots per year\n",
    "perYear_FGA = nbaRegular.groupby(\"Year\")[\"FG Attempts\",\"Games Played\"] \n",
    "FGA75_perGame = {}\n",
    "for i in perYear_FGA.groups:\n",
    "    FGA75_perGame[i] = (perYear_FGA.get_group(i)[\"FG Attempts\"] / perYear_FGA.get_group(i)[\"Games Played\"]).quantile([.75])\n",
    "\n",
    "\n",
    "nbaRegular[\"This Year 75% FGA/Game\"] = np.nan\n",
    "for i in FGA75_perGame: #Loop thru years/keys\n",
    "    for j in nbaRegular.index:\n",
    "        if i == nbaRegular.loc[j,\"Year\"]:\n",
    "            nbaRegular.loc[j,\"This Year 75% FGA/Game\"] = FGA75_perGame[i][.75]"
   ]
  },
  {
   "cell_type": "markdown",
   "metadata": {},
   "source": [
    "Player PPS Quantiles (Playoff)"
   ]
  },
  {
   "cell_type": "code",
   "execution_count": null,
   "metadata": {},
   "outputs": [],
   "source": [
    "#Gets player median PPS and assigns to a new column\n",
    "\n",
    "playerPPS_75quant_PerYear_playoff = {}\n",
    "playerPPS_99quant_PerYear_playoff = {}\n",
    "playerPPS_25quant_PerYear_playoff = {}\n",
    "\n",
    "perYear_allPPS_playoff = nbaPlayoff.groupby(\"Year\")[\"PPS\"] #Using median to be robust to outlier\n",
    "perYear_medPPS_playoff = nbaPlayoff.groupby(\"Year\")[\"PPS\"].median() #Using median to be robust to outlier\n",
    "\n",
    "nbaPlayoff[\"League-Wide Player 75% PPS this Year\"] = np.nan\n",
    "nbaPlayoff[\"League-Wide Player 99% PPS this Year\"] = np.nan\n",
    "nbaPlayoff[\"League-Wide Player 25% PPS this Year\"] = np.nan\n",
    "\n",
    "for i in perYear_allPPS_playoff.groups:\n",
    "    for j in nbaPlayoff.index:\n",
    "        if nbaPlayoff.loc[j,\"Year\"] == i:\n",
    "                nbaPlayoff.loc[j,\"Player Median PPS this Year\"] = perYear_medPPS_playoff[i]\n",
    "                playerPPS_75quant_PerYear_playoff[i] = perYear_allPPS_playoff.get_group(i).quantile(.75)\n",
    "                nbaPlayoff.loc[j,\"League-Wide Player 75% PPS this Year\"] = playerPPS_75quant_PerYear_playoff[i]\n",
    "                playerPPS_99quant_PerYear_playoff[i] = perYear_allPPS_playoff.get_group(i).quantile(.99)\n",
    "                nbaPlayoff.loc[j,\"League-Wide Player 99% PPS this Year\"] = playerPPS_99quant_PerYear_playoff[i]\n",
    "                playerPPS_25quant_PerYear_playoff[i] = perYear_allPPS_playoff.get_group(i).quantile(.25)\n",
    "                nbaPlayoff.loc[j,\"League-Wide Player 25% PPS this Year\"] = playerPPS_25quant_PerYear_playoff[i]"
   ]
  },
  {
   "cell_type": "code",
   "execution_count": null,
   "metadata": {},
   "outputs": [],
   "source": [
    "nbaPlayoff[\"Player PPS % above Median\"] = 100*((nbaPlayoff[\"PPS\"]-nbaPlayoff[\"Player Median PPS this Year\"]) / nbaPlayoff[\"Player Median PPS this Year\"])\n",
    "nbaRegular[\"Player PPS % above Median\"] = 100*((nbaRegular[\"PPS\"]-nbaRegular[\"Player Median PPS this Year\"]) / nbaRegular[\"Player Median PPS this Year\"])"
   ]
  },
  {
   "cell_type": "code",
   "execution_count": null,
   "metadata": {},
   "outputs": [],
   "source": [
    "perYear_allPoints_playoff = nbaPlayoff.groupby(\"Year\")[\"Player PPS % above Median\"] #Using median to be robust to outlier\n",
    "nbaPlayoff[\"Player 90% PPS This Year\"] = np.nan\n",
    "\n",
    "for i in perYear_allPoints_playoff.groups:\n",
    "    thisYr_points = perYear_allPoints_playoff.get_group(i)\n",
    "    thisQuant = thisYr_points.quantile([.90])\n",
    "    for j in nbaPlayoff.index:\n",
    "            if nbaPlayoff.loc[j,\"Year\"] == i:\n",
    "                nbaPlayoff.loc[j,\"Player 90% PPS This Year\"] = thisQuant[.90]"
   ]
  },
  {
   "cell_type": "markdown",
   "metadata": {},
   "source": [
    "Points and PPS Quantile (REgylar)"
   ]
  },
  {
   "cell_type": "code",
   "execution_count": null,
   "metadata": {},
   "outputs": [],
   "source": [
    "#Gets player median PPS of quantiled players and assigns to a new column\n",
    "playerPPS_75quant_PerYear = {}\n",
    "playerPPS_99quant_PerYear = {}\n",
    "playerPPS_25quant_PerYear = {}\n",
    "\n",
    "perYear_allPPS = nbaRegular.groupby(\"Year\")[\"PPS\"] #Using median to be robust to outlier\n",
    "perYear_medPPS = nbaRegular.groupby(\"Year\")[\"PPS\"].median() #Using median to be robust to outlier\n",
    "\n",
    "nbaRegular[\"League-Wide Player 75% PPS this Year\"] = np.nan\n",
    "nbaRegular[\"League-Wide Player 99% PPS this Year\"] = np.nan\n",
    "nbaRegular[\"League-Wide Player 25% PPS this Year\"] = np.nan\n",
    "\n",
    "for i in perYear_allPPS.groups:\n",
    "    for j in nbaRegular.index:\n",
    "        if nbaRegular.loc[j,\"Year\"] == i:\n",
    "                nbaRegular.loc[j,\"Player Median PPS this Year\"] = perYear_medPPS[i]\n",
    "                playerPPS_75quant_PerYear[i] = perYear_allPPS.get_group(i).quantile(.75)\n",
    "                nbaRegular.loc[j,\"League-Wide Player 75% PPS this Year\"] = playerPPS_75quant_PerYear[i]\n",
    "                playerPPS_99quant_PerYear[i] = perYear_allPPS.get_group(i).quantile(.99)\n",
    "                nbaRegular.loc[j,\"League-Wide Player 99% PPS this Year\"] = playerPPS_99quant_PerYear[i]\n",
    "                playerPPS_25quant_PerYear[i] = perYear_allPPS.get_group(i).quantile(.25)\n",
    "                nbaRegular.loc[j,\"League-Wide Player 25% PPS this Year\"] = playerPPS_25quant_PerYear[i]"
   ]
  },
  {
   "cell_type": "code",
   "execution_count": null,
   "metadata": {},
   "outputs": [],
   "source": [
    "nbaRegular[\"Player 90% PPS This Year\"] = np.nan\n",
    "\n",
    "perYear_allPPS = nbaRegular.groupby(\"Year\")[\"Player PPS % above Median\"] #Using median to be robust to outlier\n",
    "for i in perYear_allPPS.groups:\n",
    "    thisYr_PPS = perYear_allPPS.get_group(i)\n",
    "    thisQuant = thisYr_PPS.quantile([.90])\n",
    "    for j in nbaRegular.index:\n",
    "            if nbaRegular.loc[j,\"Year\"] == i:\n",
    "                nbaRegular.loc[j,\"Player 90% PPS This Year\"] = thisQuant[.90]"
   ]
  },
  {
   "cell_type": "markdown",
   "metadata": {},
   "source": [
    "EDA Plot for PPS Across Years"
   ]
  },
  {
   "cell_type": "code",
   "execution_count": null,
   "metadata": {},
   "outputs": [],
   "source": [
    "fig,ax = plt.subplots(figsize=(10,8),)\n",
    "\n",
    "ax.plot(nbaRegular[\"Year\"],nbaRegular[\"This Year Median Team PPS\"],label=\"Team PPS\",color=\"#17408B\") #Need to fix the indices for now and make it look nice\n",
    "title_font = {\n",
    "    'fontsize': 12,        # Font size\n",
    "    'fontfamily': 'Century Gothic', # Font family\n",
    "}\n",
    "ax.set_title(\"Regular Season Points per Shot vs Year\",fontdict=title_font)\n",
    "ax.vlines(x=28,ymin=.7,ymax=1.0999999999,color='#B8B2B2',alpha=.8,linewidth=1.4,linestyles='dashed',label=\"3pt Line Introduction\")\n",
    "\n",
    "label = uniqueYear_playoff[0::5]\n",
    "ax.set_xticks(range(0,72,5))\n",
    "ax.set_xticklabels(label,rotation=45)\n",
    "ax.tick_params(axis='x',bottom=False)\n",
    "ax.tick_params(axis='y',left=False)\n",
    "\n",
    "ax.plot(nbaRegular[\"Year\"],nbaRegular[\"Player Median PPS this Year\"],color=\"#C9082A\",label=\"Player PPS\")\n",
    "\n",
    "\n",
    "ax.grid(color='grey', axis = 'y', linestyle='solid', linewidth=.35,alpha=.3)\n",
    "\n",
    "ax.spines['right'].set_visible(False)\n",
    "ax.spines['top'].set_visible(False)\n",
    "ax.spines['left'].set_visible(False)\n",
    "ax.spines['bottom'].set_visible(False)\n",
    "\n",
    "plt.legend()\n",
    "plt.show()\n",
    "\n",
    "#Zone defemce was imnammed"
   ]
  },
  {
   "cell_type": "code",
   "execution_count": null,
   "metadata": {},
   "outputs": [],
   "source": [
    "fig,ax = plt.subplots(figsize=(10,8),)\n",
    "\n",
    "ax.plot(nbaPlayoff[\"Year\"],nbaPlayoff[\"This Year Median Team PPS\"],label=\"Team PPS\",color=\"#17408B\",linewidth=1.8) #Need to fix the indices for now and make it look nice\n",
    "ax.set_title(\"Playoff Points per Shot vs Year\")\n",
    "ax.vlines(x=28,ymin=.7,ymax=1.0999999999,color='#B8B2B2',alpha=.8,linewidth=1.4,linestyles='dashed',label=\"3 Pt line Introduction\")\n",
    "\n",
    "ax.plot(nbaPlayoff[\"Year\"],nbaPlayoff[\"Player Median PPS this Year\"],color=\"#C9082A\",label=\"Player PPS\",linewidth=1.8,)\n",
    "\n",
    "label = uniqueYear_playoff[0::5]\n",
    "ax.set_xticks(range(0,72,5))\n",
    "ax.set_xticklabels(label,rotation=45)\n",
    "ax.tick_params(axis='x',bottom=False)\n",
    "ax.tick_params(axis='y',left=False)\n",
    "\n",
    "\n",
    "ax.grid(color='grey', axis = 'y', linestyle='solid', linewidth=.35,alpha=.3)\n",
    "\n",
    "ax.spines['right'].set_visible(False)\n",
    "ax.spines['top'].set_visible(False)\n",
    "ax.spines['left'].set_visible(False)\n",
    "ax.spines['bottom'].set_visible(False)\n",
    "\n",
    "plt.legend()\n",
    "plt.show()"
   ]
  },
  {
   "cell_type": "markdown",
   "metadata": {},
   "source": [
    "Calculating Player % above median and Quantifying Outlier"
   ]
  },
  {
   "cell_type": "code",
   "execution_count": null,
   "metadata": {},
   "outputs": [],
   "source": [
    "nbaPlayoff[\"Player PPS % above Median\"] = 100*((nbaPlayoff[\"PPS\"]-nbaPlayoff[\"Player Median PPS this Year\"]) / nbaPlayoff[\"Player Median PPS this Year\"])\n",
    "nbaRegular[\"Player PPS % above Median\"] = 100*((nbaRegular[\"PPS\"]-nbaRegular[\"Player Median PPS this Year\"]) / nbaRegular[\"Player Median PPS this Year\"])"
   ]
  },
  {
   "cell_type": "code",
   "execution_count": null,
   "metadata": {},
   "outputs": [],
   "source": [
    "teamPoints_perTeam = nbaRegular.groupby(['Team', 'Year'])[\"Points Scored\"]\n",
    "nbaRegular[\"This Team Total Pts\"] = np.nan\n",
    "\n",
    "for i in teamPoints_perTeam.groups:\n",
    "    thisGroup = teamPoints_perTeam.get_group(i)\n",
    "    for j in nbaRegular.index:\n",
    "        if nbaRegular.loc[j,\"Year\"] == i[1]:\n",
    "                if nbaRegular.loc[j,\"Team\"] == i[0]: #0 0 = Team ; 0,1 = team\n",
    "                    nbaRegular.loc[j, \"This Team Total Pts\"] = np.sum(thisGroup)"
   ]
  },
  {
   "cell_type": "code",
   "execution_count": null,
   "metadata": {},
   "outputs": [],
   "source": [
    "nbaRegular[\"This Team PPG\"] = nbaRegular[\"This Team Total Pts\"] / 82\n",
    "nbaRegular[\"This Player PPG\"] = nbaRegular[\"Points Scored\"] / nbaRegular[\"Games Played\"]"
   ]
  },
  {
   "cell_type": "code",
   "execution_count": null,
   "metadata": {},
   "outputs": [],
   "source": [
    "teamPoints_perTeam = nbaPlayoff.groupby(['Team', 'Year'])[\"Points Scored\"]\n",
    "teamGames_perTeam = nbaPlayoff.groupby(['Team', 'Year'])[\"Games Played\"]\n",
    "\n",
    "nbaPlayoff[\"This Team Total Pts\"] = np.nan\n",
    "nbaPlayoff[\"This Team Games Played\"] = np.nan\n",
    "\n",
    "for i in teamPoints_perTeam.groups:\n",
    "    thisGroup = teamPoints_perTeam.get_group(i)\n",
    "    thisGroup_game = teamGames_perTeam.get_group(i)\n",
    "    for j in nbaPlayoff.index:\n",
    "        if nbaPlayoff.loc[j,\"Year\"] == i[1]:\n",
    "                if nbaPlayoff.loc[j,\"Team\"] == i[0]: #0 0 = Team ; 0,1 = team\n",
    "                    nbaPlayoff.loc[j, \"This Team Total Pts\"] = np.sum(thisGroup)\n",
    "                    nbaPlayoff.loc[j, \"This Team Games Played\"] = thisGroup_game.max()"
   ]
  },
  {
   "cell_type": "code",
   "execution_count": null,
   "metadata": {},
   "outputs": [],
   "source": [
    "nbaPlayoff[\"This Team PPG\"] = nbaPlayoff[\"This Team Total Pts\"] / nbaPlayoff[\"This Team Games Played\"]\n",
    "nbaPlayoff[\"This Player PPG\"] = nbaPlayoff[\"Points Scored\"] / nbaPlayoff[\"Games Played\"]"
   ]
  },
  {
   "cell_type": "code",
   "execution_count": null,
   "metadata": {},
   "outputs": [],
   "source": [
    "nbaRegular[\"Player % of Team Pts\"] = 100 * (nbaRegular[\"This Player PPG\"] / nbaRegular[\"This Team PPG\"])\n",
    "nbaPlayoff[\"Player % of Team Pts\"] = 100 * (nbaPlayoff[\"This Player PPG\"] / nbaPlayoff[\"This Team PPG\"])"
   ]
  },
  {
   "cell_type": "markdown",
   "metadata": {},
   "source": [
    "Outlier players are defined as \n",
    "1. 90th percentile in \"player % of team points\" = 18%. This ensures that an outlier player significantly contributes to their team performance. \n",
    "2. 75th percentile in \"FG attempts\" within that respective year. This helps avoid the problem of: if a player takes only 1 FG attempt and makes a 3 pointer, their points per shot would be 3, when the median hovers around 1.\n",
    "3. Player PPS is above median in regular season, and no less than 2% below the median in the playoffs. In the playoffs, competition gets stronger, where only 16/32 make the playoffs. Thus, when strong players play strong players, their strengths are neutralized, so we lower the PPS cutoff to account for that. Generally speaking now, we decide to keep the cutoff for PPS as at least median, because to us an outlier is a player who contributes significantly to their team (% of team points). For example, if an opponenet team knows one player is by far the best on our team, the opponent team will use a strategy to minimize the best players contribution, making the best player closer to the median. With our definition, we are aiming to take those \"best players\" from the example, that can still perform at median or above."
   ]
  },
  {
   "cell_type": "code",
   "execution_count": null,
   "metadata": {},
   "outputs": [],
   "source": [
    "##Definition of an outlier Player\n",
    "\n",
    "yoffOutlier = nbaPlayoff[\"Player % of Team Pts\"].quantile(.9)\n",
    "# nbaPlayoff[\"Outlier Player\"] = (nbaPlayoff[\"Player % of Team Pts\"] > yoffOutlier) & (nbaPlayoff[\"FGA/Game\"] >= nbaPlayoff['This Year 75% FGA/Game'])\n",
    "nbaPlayoff[\"Outlier Player\"] = ((nbaPlayoff[\"Player % of Team Pts\"] > yoffOutlier) & (nbaPlayoff[\"Player PPS % above Median\"] >= -2) & ((nbaPlayoff[\"FGA/Game\"] >= nbaPlayoff['This Year 75% FGA/Game']))) #-2\n",
    "regOutlier = nbaRegular[\"Player % of Team Pts\"].quantile(.9)\n",
    "# nbaRegular[\"Outlier Player\"] = (nbaRegular[\"Player % of Team Pts\"] > regOutlier) & (nbaRegular[\"FGA/Game\"] >= nbaRegular['This Year 75% FGA/Game'])\n",
    "nbaRegular[\"Outlier Player\"] = ((nbaRegular[\"Player % of Team Pts\"] > regOutlier) & (nbaRegular[\"Player PPS % above Median\"] >= 0) & ((nbaRegular[\"FGA/Game\"] >= nbaRegular['This Year 75% FGA/Game']))) #-1"
   ]
  },
  {
   "cell_type": "markdown",
   "metadata": {},
   "source": [
    "Quantifying Team Outliers"
   ]
  },
  {
   "cell_type": "code",
   "execution_count": null,
   "metadata": {},
   "outputs": [],
   "source": [
    "weirdVal = np.where((nbaPlayoff[\"Outlier Player\"] == True) & (nbaPlayoff[\"Player PPS % above Median\"] <0) & (nbaPlayoff[\"Year\"] ==\"1954-55\"))\n",
    "wVal = np.where((nbaRegular[\"Outlier Player\"] == True) & (nbaRegular[\"Player PPS % above Median\"] <0) & (nbaRegular[\"Year\"] ==\"1954-55\"))"
   ]
  },
  {
   "cell_type": "code",
   "execution_count": null,
   "metadata": {},
   "outputs": [],
   "source": [
    "nbaPlayoff[\"Team PPS % above Median\"] = 100*((nbaPlayoff[\"This Teams PPS this Year\"] - nbaPlayoff[\"This Year Median Team PPS\"]) / nbaPlayoff[\"This Year Median Team PPS\"])\n",
    "nbaRegular[\"Team PPS % above Median\"] = 100*((nbaRegular[\"This Teams PPS this Year\"] - nbaRegular[\"This Year Median Team PPS\"])/ nbaRegular[\"This Year Median Team PPS\"])"
   ]
  },
  {
   "cell_type": "code",
   "execution_count": null,
   "metadata": {},
   "outputs": [],
   "source": [
    "# teamPPS_outlierPlayoff = nbaPlayoff.groupby([\"Year\"])[\"Team PPS % above Median\"].quantile([.75])\n",
    "teamPPS_outlierPlayoff = nbaPlayoff.groupby([\"Year\"])[\"Team PPS % above Median\"]\n",
    "# top10_yoff = teamPPS_outlierPlayoff.apply(lambda x: x.nlargest(10).iloc[-1])\n",
    "\n",
    "nbaPlayoff[\"This Year 75% Team PPS Above Med\"] = np.nan\n",
    "nbaPlayoff[\"This Year Top 8 Team PPS Above Med\"] = np.nan\n",
    "\n",
    "for i in teamPPS_outlierPlayoff.groups:\n",
    "    thisYear = np.sort((teamPPS_outlierPlayoff.get_group(i)).unique())\n",
    "    if len(thisYear) ==1:\n",
    "        top10 = thisYear[-1] #Could be 3\n",
    "    elif len(thisYear) <= 10:\n",
    "        top10 = thisYear[-2] #Could be 3\n",
    "    else:\n",
    "        top10 = thisYear[-4] #Could be 5\n",
    "    for j in nbaPlayoff.index:\n",
    "        if i == nbaPlayoff.loc[j,\"Year\"]:\n",
    "            nbaPlayoff.loc[j,\"This Year Top 8 Team PPS Above Med\"] = top10\n"
   ]
  },
  {
   "cell_type": "code",
   "execution_count": null,
   "metadata": {},
   "outputs": [],
   "source": [
    "# teamPPS_outlierReg = nbaRegular.groupby([\"Year\"])[\"Team PPS % above Median\"].quantile([.75])\n",
    "teamPPS_outlierReg = nbaRegular.groupby([\"Year\"])[\"Team PPS % above Median\"]\n",
    "# top10 = teamPPS_outlierReg.apply(lambda x: x.nlargest(10).iloc[-1])\n",
    "\n",
    "nbaRegular[\"This Year 75% Team PPS Above Med\"] = np.nan\n",
    "nbaRegular[\"This Year Top 8 Team PPS Above Med\"] = np.nan\n",
    "nbaPlayoff[\"Team Outlier in PPS\"] = False\n",
    "\n",
    "teamOut_counter ={}\n",
    "for i in teamPPS_outlierReg.groups: #Year\n",
    "    if i not in teamOut_counter:\n",
    "        teamOut_counter[i] = 0\n",
    "    thisYear = np.sort((teamPPS_outlierReg.get_group(i)).unique())\n",
    "    if len(thisYear) <= 10:\n",
    "        top10 = thisYear[-4] #could be 5\n",
    "    else:\n",
    "        top10 = thisYear[-8] #Could be 10\n",
    "    for j in nbaRegular.index:\n",
    "        if i == nbaRegular.loc[j,\"Year\"]:\n",
    "            # nbaRegular.loc[j,\"This Year 75% Team PPS Above Med\"] = teamPPS_outlierReg[i[0]][.75]\n",
    "            nbaRegular.loc[j,\"This Year Top 8 Team PPS Above Med\"] = top10\n",
    "            if nbaRegular.loc[j,\"Team PPS % above Median\"] >= nbaRegular.loc[j,\"This Year Top 8 Team PPS Above Med\"]:\n",
    "                nbaRegular.loc[j,\"Team Outlier in PPS\"] = True"
   ]
  },
  {
   "cell_type": "markdown",
   "metadata": {},
   "source": [
    "For a Team outlier, we simply define them as a team who is top 8 in PPS, or top 4 if there are less teams that year. (8/32 = 1/4, thus 75th percentile.) \n",
    "In the playoff, outliers are top 4 or 2 respectively, keeping the percentile the same (4/16)"
   ]
  },
  {
   "cell_type": "code",
   "execution_count": null,
   "metadata": {},
   "outputs": [],
   "source": [
    "nbaPlayoff[\"Team Outlier in PPS\"] = nbaPlayoff[\"Team PPS % above Median\"] >= nbaPlayoff[\"This Year Top 8 Team PPS Above Med\"]\n",
    "nbaRegular[\"Team Outlier in PPS\"] = nbaRegular[\"Team PPS % above Median\"] >= nbaRegular[\"This Year Top 8 Team PPS Above Med\"]\n"
   ]
  },
  {
   "cell_type": "markdown",
   "metadata": {},
   "source": [
    "Creating New DF for players meeting minimum FGA"
   ]
  },
  {
   "cell_type": "code",
   "execution_count": null,
   "metadata": {},
   "outputs": [],
   "source": [
    "regPlayer_fgaInd = np.where((nbaRegular[\"Team Outlier in PPS\"]==True))\n",
    "playoffPlayer_fgaInd = np.where((nbaPlayoff[\"Team Outlier in PPS\"]==True))\n",
    "\n",
    "playoffFGA_playerDF = nbaPlayoff.iloc[playoffPlayer_fgaInd[0],:]\n",
    "regularFGA_playerDF = nbaRegular.iloc[regPlayer_fgaInd[0],:]"
   ]
  },
  {
   "cell_type": "code",
   "execution_count": null,
   "metadata": {},
   "outputs": [],
   "source": [
    "#Taking new median PPS only from players\n",
    "\n",
    "tInd = np.where((regularFGA_playerDF[\"Team Outlier in PPS\"]==True)) #This is giving int index, not index in this column\n",
    "pTrueInd = np.where((regularFGA_playerDF[\"Outlier Player\"]==True))"
   ]
  },
  {
   "cell_type": "markdown",
   "metadata": {},
   "source": [
    "Counting Outlier per Team (Regular)"
   ]
  },
  {
   "cell_type": "code",
   "execution_count": null,
   "metadata": {},
   "outputs": [],
   "source": [
    "regularFGA_playerDF = regularFGA_playerDF.reset_index()"
   ]
  },
  {
   "cell_type": "code",
   "execution_count": null,
   "metadata": {},
   "outputs": [],
   "source": [
    "count = 0\n",
    "tCount = 0\n",
    "yearDict = {}\n",
    "for i in tInd[0]: #Loop thru outlier teams indices\n",
    "    if regularFGA_playerDF.loc[i,\"Year\"] not in yearDict:\n",
    "        yearDict[regularFGA_playerDF.loc[i,\"Year\"]] = {} #Create a nested dictionary for this year, where the nested keys are tje team\n",
    "    if regularFGA_playerDF.loc[i,\"Team\"] not in yearDict[regularFGA_playerDF.loc[i,\"Year\"]]:\n",
    "        yearDict[regularFGA_playerDF.loc[i,\"Year\"]][regularFGA_playerDF.loc[i,\"Team\"]] = 0\n",
    "        tCount+=1\n",
    "    if i in pTrueInd[0]: #If this outlier team entry is also an outlier player, add 1\n",
    "        count+=1\n",
    "        yearDict[regularFGA_playerDF.loc[i,\"Year\"]][regularFGA_playerDF.loc[i,\"Team\"]] += 1\n",
    "    #Half the time, there is no outlier team\n",
    "    \n",
    "print(count)\n",
    "print(tCount)\n"
   ]
  },
  {
   "cell_type": "code",
   "execution_count": null,
   "metadata": {},
   "outputs": [],
   "source": [
    "yearDict"
   ]
  },
  {
   "cell_type": "markdown",
   "metadata": {},
   "source": [
    "Counting Outlier per Team (Playoffs)"
   ]
  },
  {
   "cell_type": "code",
   "execution_count": null,
   "metadata": {},
   "outputs": [],
   "source": [
    "yoffThresh = playoffFGA_playerDF[\"Player PPS % above Median\"].quantile([.75])\n",
    "yoffMedThresh = playoffFGA_playerDF[\"Player PPS % above Median\"].median()\n",
    "\n",
    "tpInd = np.where((playoffFGA_playerDF[\"Team Outlier in PPS\"]==True)) #This is giving int index, not index in this column\n",
    "yoffTrueInd = np.where((playoffFGA_playerDF[\"Outlier Player\"]==True))\n",
    "# yoffTrueInd = np.where((playoffFGA_playerDF[\"Outlier in PPS\"]==True))\n",
    "playoffFGA_playerDF = playoffFGA_playerDF.reset_index()"
   ]
  },
  {
   "cell_type": "code",
   "execution_count": null,
   "metadata": {},
   "outputs": [],
   "source": [
    "print(len(yoffTrueInd[0]))"
   ]
  },
  {
   "cell_type": "code",
   "execution_count": null,
   "metadata": {},
   "outputs": [],
   "source": [
    "ct = 0\n",
    "ptCT = 0\n",
    "yearDict_playoff = {}\n",
    "for i in tpInd[0]: #Loop thru outlier teams indices\n",
    "    if playoffFGA_playerDF.loc[i,\"Year\"] not in yearDict_playoff:\n",
    "        yearDict_playoff[playoffFGA_playerDF.loc[i,\"Year\"]] = {} #Create a nested dictionary for this year, where the nested keys are tje team\n",
    "    if playoffFGA_playerDF.loc[i,\"Team\"] not in yearDict_playoff[playoffFGA_playerDF.loc[i,\"Year\"]]:\n",
    "        ptCT += 1\n",
    "        yearDict_playoff[playoffFGA_playerDF.loc[i,\"Year\"]][playoffFGA_playerDF.loc[i,\"Team\"]] = 0\n",
    "    if i in yoffTrueInd[0]: #If this outlier team entry is also an outlier player?\n",
    "        ct+=1\n",
    "        yearDict_playoff[playoffFGA_playerDF.loc[i,\"Year\"]][playoffFGA_playerDF.loc[i,\"Team\"]] += 1\n",
    "\n",
    "print(ct)\n",
    "print(ptCT)"
   ]
  },
  {
   "cell_type": "code",
   "execution_count": null,
   "metadata": {},
   "outputs": [],
   "source": [
    "yearDict_playoff"
   ]
  },
  {
   "cell_type": "markdown",
   "metadata": {},
   "source": [
    "Adding team outlier count dictionary values to another dictionary lol"
   ]
  },
  {
   "cell_type": "code",
   "execution_count": null,
   "metadata": {},
   "outputs": [],
   "source": [
    "finalYoff_dict = {}\n",
    "\n",
    "for year in yearDict_playoff:\n",
    "    for team in yearDict_playoff[year]:\n",
    "        if yearDict_playoff[year][team] not in finalYoff_dict: #If this player count not in output dict\n",
    "            finalYoff_dict[yearDict_playoff[year][team]] = 1\n",
    "        else:\n",
    "            finalYoff_dict[yearDict_playoff[year][team]] += 1"
   ]
  },
  {
   "cell_type": "code",
   "execution_count": null,
   "metadata": {},
   "outputs": [],
   "source": [
    "print(ptCT)\n",
    "finalYoff_dict"
   ]
  },
  {
   "cell_type": "code",
   "execution_count": null,
   "metadata": {},
   "outputs": [],
   "source": [
    "finalReg_dict = {}\n",
    "counter = 0\n",
    "for year in yearDict:\n",
    "    for team in yearDict[year]:\n",
    "        if yearDict[year][team] not in finalReg_dict: #If this player count not in output dict\n",
    "            finalReg_dict[yearDict[year][team]] = 1\n",
    "        else:\n",
    "            finalReg_dict[yearDict[year][team]] += 1\n",
    "        counter += yearDict[year][team]"
   ]
  },
  {
   "cell_type": "code",
   "execution_count": null,
   "metadata": {},
   "outputs": [],
   "source": [
    "#com f Final\n",
    "print(count)\n",
    "print(tCount)\n",
    "finalReg_dict"
   ]
  },
  {
   "cell_type": "code",
   "execution_count": null,
   "metadata": {},
   "outputs": [],
   "source": [
    "# finalReg_dict.pop(5) #For plot, drop 1 instance team\n"
   ]
  },
  {
   "cell_type": "code",
   "execution_count": null,
   "metadata": {},
   "outputs": [],
   "source": [
    "regPCT_dict = {}\n",
    "cumReg_dict = {}\n",
    "sortKeys = list(finalReg_dict.keys())\n",
    "sortKeys.sort()\n",
    "print(sortKeys)\n",
    "for i in sortKeys:\n",
    "    regPCT_dict[i] = finalReg_dict[i] / 512\n",
    "    if i==0:\n",
    "        cumReg_dict[i] = regPCT_dict[i]\n",
    "    else:\n",
    "        cumReg_dict[i] = regPCT_dict[i] + cumReg_dict[i-1]\n",
    "        \n",
    "yoffPCT_dict = {}\n",
    "cumYoff_dict = {}\n",
    "\n",
    "sortKeys_yoff = list(finalYoff_dict.keys())\n",
    "sortKeys_yoff.sort()\n",
    "for i in sortKeys_yoff:\n",
    "    yoffPCT_dict[i] = finalYoff_dict[i] / 238\n",
    "    if i==0:\n",
    "        cumYoff_dict[i] = yoffPCT_dict[i]\n",
    "    else:\n",
    "        cumYoff_dict[i] = yoffPCT_dict[i] + cumYoff_dict[i-1]\n",
    "\n"
   ]
  },
  {
   "cell_type": "markdown",
   "metadata": {},
   "source": [
    "Raw PDF of % of teams with certain number of outliers"
   ]
  },
  {
   "cell_type": "code",
   "execution_count": null,
   "metadata": {},
   "outputs": [],
   "source": [
    "plt.bar(regPCT_dict.keys(),regPCT_dict.values()) #PDF"
   ]
  },
  {
   "cell_type": "markdown",
   "metadata": {},
   "source": [
    "Presentation CDF of Teams with certain # of Outlier (Regular Season)"
   ]
  },
  {
   "cell_type": "code",
   "execution_count": null,
   "metadata": {},
   "outputs": [],
   "source": [
    "fig,ax=plt.subplots(figsize=(12,8))\n",
    "\n",
    "colors = [\"#717e97\",\"#717e97\",\"#c00900\",\"#717e97\",\"#717e97\"]\n",
    "alphas = [.65,.65,1,.65,.65]\n",
    "\n",
    "bars = ax.bar(cumReg_dict.keys(),cumReg_dict.values(),color=colors,width=0.4,)\n",
    "\n",
    "ax.grid(color='grey', axis = 'y', linestyle='solid', linewidth=.35,alpha=.3)\n",
    "\n",
    "ax.set_yticks(np.arange(0,1.01,.1))\n",
    "ax.set_xticks([0,1,2,3,4,5])\n",
    "ax.set_xticklabels([\"Zero\",\"One\",\"Two\",\"Three\",\"Four\",\"Five\"],rotation=45)\n",
    "ax.tick_params(axis='x',bottom=False)\n",
    "ax.tick_params(axis='y',left=False)\n",
    "\n",
    "ax.spines['right'].set_visible(False)\n",
    "ax.spines['top'].set_visible(False)\n",
    "ax.spines['left'].set_visible(False)\n",
    "ax.spines['bottom'].set_visible(False)\n",
    "\n",
    "plt.plot(cumReg_dict.keys(),cumReg_dict.values(),color=\"grey\",alpha=.15,linewidth=4)\n",
    "\n",
    "plt.show()\n"
   ]
  },
  {
   "cell_type": "code",
   "execution_count": null,
   "metadata": {},
   "outputs": [],
   "source": [
    "# print(cumYoff_dict)\n",
    "# cumYoff_dict.pop(4) #Drop value with 1 occurance for simplicity of CDF\n",
    "# print(cumYoff_dict)"
   ]
  },
  {
   "cell_type": "markdown",
   "metadata": {},
   "source": [
    "Presentation CDF of Teams with certain # of Outlier (Playoff)"
   ]
  },
  {
   "cell_type": "code",
   "execution_count": null,
   "metadata": {},
   "outputs": [],
   "source": [
    "fig,ax=plt.subplots(figsize=(12,8))\n",
    "\n",
    "colors = [\"#717e97\",\"#717e97\",\"#c00900\",\"#717e97\",\"#717e97\"]\n",
    "alphas = [.65,.65,1,.65,.65]\n",
    "\n",
    "bars = ax.bar(cumYoff_dict.keys(),cumYoff_dict.values(),color=colors,width=.4,)\n",
    "\n",
    "ax.grid(color='grey', axis = 'y', linestyle='solid', linewidth=.35,alpha=.3)\n",
    "\n",
    "ax.set_yticks(np.arange(0,1.01,.1))\n",
    "ax.set_xticks([0,1,2,3])\n",
    "ax.set_xticklabels([\"Zero\",\"One\",\"Two\",\"Three\"],rotation=45)\n",
    "ax.tick_params(axis='x',bottom=False)\n",
    "ax.tick_params(axis='y',left=False)\n",
    "\n",
    "ax.spines['right'].set_visible(False)\n",
    "ax.spines['top'].set_visible(False)\n",
    "ax.spines['left'].set_visible(False)\n",
    "ax.spines['bottom'].set_visible(False)\n",
    "\n",
    "\n",
    "# for bar, alpha in zip(bars, alphas):\n",
    "#     bar.set_alpha(alpha)\n",
    "\n",
    "\n",
    "plt.plot(cumYoff_dict.keys(),cumYoff_dict.values(),color=\"grey\",alpha=.15,linewidth=4)\n",
    "\n",
    "plt.show()"
   ]
  },
  {
   "cell_type": "markdown",
   "metadata": {},
   "source": [
    "Regular Season Free throw plot:"
   ]
  },
  {
   "cell_type": "code",
   "execution_count": null,
   "metadata": {},
   "outputs": [],
   "source": [
    "outlierDf_reg = nbaRegular.loc[nbaRegular[\"Outlier Player\"]==True]\n",
    "outlierDf_yoff = nbaPlayoff.loc[nbaPlayoff[\"Outlier Player\"]==True]"
   ]
  },
  {
   "cell_type": "code",
   "execution_count": null,
   "metadata": {},
   "outputs": [],
   "source": [
    "ftYear_group_outlier = outlierDf_reg.groupby(\"Year\")[\"FT/Game\"].median()\n",
    "ftYear_groupPlayoff_outlier = outlierDf_yoff.groupby(\"Year\")[\"FT/Game\"].median()\n",
    "\n",
    "ftYear_group = nbaRegular.groupby(\"Year\")[\"FT/Game\"].median()\n"
   ]
  },
  {
   "cell_type": "code",
   "execution_count": null,
   "metadata": {},
   "outputs": [],
   "source": [
    "#Regular FT Plot\n",
    "fig,ax = plt.subplots(figsize=(10,8),)\n",
    "\n",
    "ax.vlines(x=28,ymin=.7,ymax=1.0999999999,color='#B8B2B2',alpha=.8,linewidth=1.4,linestyles='dashed',label=\"3 Pt line Introduction\")\n",
    "xx = range(0,72)\n",
    "\n",
    "ax.plot(ftYear_group_outlier.index,ftYear_group_outlier.values,color=\"#C9082A\",label=\"Outlier Median FT Attempts\",linewidth=1.8,)\n",
    "ax.fill_between(x=xx,y1=0,y2=ftYear_group_outlier.values,color=\"#C9082A\",alpha=.4)\n",
    "\n",
    "ax.plot(ftYear_group.index,ftYear_group.values,label=\"Median FT Attempts\",color=\"#17408B\",linewidth=1.8) #Need to fix the indices for now and make it look nice\n",
    "ax.fill_between(x=xx,y1=0,y2=ftYear_group.values,color=\"#17408B\",alpha=.4)\n",
    "\n",
    "\n",
    "label = uniqueYear_playoff[0::5]\n",
    "ax.set_xticks(range(0,72,5))\n",
    "ax.set_xticklabels(label,rotation=45)\n",
    "ax.tick_params(axis='x',bottom=False)\n",
    "ax.tick_params(axis='y',left=False)\n",
    "\n",
    "ax.grid(color='grey', axis = 'y', linestyle='solid', linewidth=.35,alpha=.3)\n",
    "\n",
    "ax.spines['right'].set_visible(False)\n",
    "ax.spines['top'].set_visible(False)\n",
    "ax.spines['left'].set_visible(False)\n",
    "ax.spines['bottom'].set_visible(False)\n",
    "\n",
    "# plt.legend()\n",
    "plt.show()"
   ]
  },
  {
   "cell_type": "markdown",
   "metadata": {},
   "source": [
    "Regular Season Field Goal Plot"
   ]
  },
  {
   "cell_type": "code",
   "execution_count": null,
   "metadata": {},
   "outputs": [],
   "source": [
    "ftYear_group_outlier = outlierDf_reg.groupby(\"Year\")[\"FGA/Game\"].median()\n",
    "# ftYear_groupPlayoff_outlier = outlierDf_yoff.groupby(\"Year\")[\"FGA/Game\"].median()\n",
    "\n",
    "ftYear_group = nbaRegular.groupby(\"Year\")[\"FGA/Game\"].median()\n",
    "# ftYear_groupPlayoff = nbaPlayoff.groupby(\"Year\")[\"FGA/Game\"].median()\n",
    "\n",
    "# ftpYear_group_outlier = outlierDf_reg.groupby(\"Year\")[\"FG %\"].median()\n",
    "\n",
    "# ftpYear_group = nbaRegular.groupby(\"Year\")[\"FG %\"].median()\n",
    "# ftpYear_groupPlayoff = nbaPlayoff.groupby(\"Year\")[\"FG %\"].median()"
   ]
  },
  {
   "cell_type": "code",
   "execution_count": null,
   "metadata": {},
   "outputs": [],
   "source": [
    "#Regular FG Plot\n",
    "fig,ax = plt.subplots(figsize=(10,8),)\n",
    "\n",
    "xx = range(0,72)\n",
    "gg=\"#998179\"\n",
    "dark=\"#105F73\"\n",
    "light = \"#9DBCC9\"\n",
    "\n",
    "ax.plot(ftYear_group_outlier.index,ftYear_group_outlier.values,color=light,label=\"Outlier Median FT Attempts\",linewidth=1.8,)\n",
    "ax.fill_between(x=xx,y1=ftYear_group.values.min(),y2=ftYear_group_outlier.values,color=light,alpha=.4)\n",
    "\n",
    "ax.plot(ftYear_group.index,ftYear_group.values,label=\"Median FT Attempts\",color=dark,linewidth=1.8) #Need to fix the indices for now and make it look nice\n",
    "ax.fill_between(x=xx,y1=ftYear_group.values.min(),y2=ftYear_group.values,color=dark,alpha=.4)\n",
    "\n",
    "# ax.vlines(x=28,ymin=ftYear_group.values.min(),ymax=ftYear_group_outlier.values.max(),color='#4E5961',alpha=.5,linewidth=1.4,linestyles='dotted',label=\"3pt Line Introduction\")\n",
    "\n",
    "\n",
    "label = uniqueYear_playoff[0::5]\n",
    "ax.set_xticks(range(0,72,5))\n",
    "ax.set_xticklabels(label,rotation=45)\n",
    "ax.tick_params(axis='x',bottom=False)\n",
    "ax.tick_params(axis='y',left=False)\n",
    "\n",
    "ax.grid(color='grey', axis = 'y', linestyle='solid', linewidth=.35,alpha=.3)\n",
    "\n",
    "ax.spines['right'].set_visible(False)\n",
    "ax.spines['top'].set_visible(False)\n",
    "ax.spines['left'].set_visible(False)\n",
    "ax.spines['bottom'].set_visible(False)\n",
    "\n",
    "# plt.legend()\n",
    "plt.show()"
   ]
  },
  {
   "cell_type": "markdown",
   "metadata": {},
   "source": [
    "Playoff Plot Free Throw"
   ]
  },
  {
   "cell_type": "code",
   "execution_count": null,
   "metadata": {},
   "outputs": [],
   "source": [
    "fgYear_groupPlayoff = nbaPlayoff.groupby(\"Year\")[\"FT/Game\"].median()\n",
    "fgYear_groupPlayoff_outlier = outlierDf_yoff.groupby(\"Year\")[\"FT/Game\"].median()\n",
    "\n",
    "fgYear_groupPlayoff_outlier = outlierDf_yoff.groupby(\"Year\")[\"FT/Game\"].median()\n",
    "fgYear_groupPlayoff = nbaPlayoff.groupby(\"Year\")[\"FT/Game\"].median()"
   ]
  },
  {
   "cell_type": "code",
   "execution_count": null,
   "metadata": {},
   "outputs": [],
   "source": [
    "#Playoff FT Plot\n",
    "fig,ax = plt.subplots(figsize=(10,8),)\n",
    "\n",
    "ax.vlines(x=28,ymin=.7,ymax=1.0999999999,color='#B8B2B2',alpha=.8,linewidth=1.4,linestyles='dashed',label=\"3 Pt line Introduction\")\n",
    "xx = range(0,72)\n",
    "\n",
    "ax.plot(fgYear_groupPlayoff_outlier.index,fgYear_groupPlayoff_outlier.values,color=\"#C9082A\",label=\"Outlier Median FT Attempts\",linewidth=1.8,)\n",
    "ax.fill_between(x=xx,y1=0,y2=fgYear_groupPlayoff_outlier.values,color=\"#C9082A\",alpha=.4)\n",
    "\n",
    "ax.plot(fgYear_groupPlayoff.index,fgYear_groupPlayoff.values,label=\"Median FT Attempts\",color=\"#17408B\",linewidth=1.8) #Need to fix the indices for now and make it look nice\n",
    "ax.fill_between(x=xx,y1=0,y2=fgYear_groupPlayoff.values,color=\"#17408B\",alpha=.4)\n",
    "\n",
    "\n",
    "label = uniqueYear_playoff[0::5]\n",
    "ax.set_xticks(range(0,72,5))\n",
    "ax.set_xticklabels(label,rotation=45)\n",
    "ax.tick_params(axis='x',bottom=False)\n",
    "ax.tick_params(axis='y',left=False)\n",
    "\n",
    "ax.grid(color='grey', axis = 'y', linestyle='solid', linewidth=.35,alpha=.3)\n",
    "\n",
    "ax.spines['right'].set_visible(False)\n",
    "ax.spines['top'].set_visible(False)\n",
    "ax.spines['left'].set_visible(False)\n",
    "ax.spines['bottom'].set_visible(False)\n",
    "\n",
    "# plt.legend()\n",
    "plt.show()"
   ]
  },
  {
   "cell_type": "markdown",
   "metadata": {},
   "source": [
    "Playoff FG Plot"
   ]
  },
  {
   "cell_type": "code",
   "execution_count": null,
   "metadata": {},
   "outputs": [],
   "source": [
    "fgYear_groupPlayoff = nbaPlayoff.groupby(\"Year\")[\"FGA/Game\"].median()\n",
    "fgYear_groupPlayoff_outlier = outlierDf_yoff.groupby(\"Year\")[\"FGA/Game\"].median()\n",
    "\n",
    "fgYear_groupPlayoff_outlier = outlierDf_yoff.groupby(\"Year\")[\"FGA/Game\"].median()\n",
    "fgYear_groupPlayoff = nbaPlayoff.groupby(\"Year\")[\"FGA/Game\"].median()"
   ]
  },
  {
   "cell_type": "code",
   "execution_count": null,
   "metadata": {},
   "outputs": [],
   "source": [
    "#Playoff FG Plot\n",
    "fig,ax = plt.subplots(figsize=(10,8),)\n",
    "\n",
    "xx = range(0,72)\n",
    "gg=\"#998179\"\n",
    "dark=\"#105F73\"\n",
    "light = \"#9DBCC9\"\n",
    "\n",
    "ax.plot(fgYear_groupPlayoff_outlier.index,fgYear_groupPlayoff_outlier.values,color=light,label=\"Outlier Median FT Attempts\",linewidth=1.8,)\n",
    "ax.fill_between(x=xx,y1=fgYear_groupPlayoff.values.min(),y2=fgYear_groupPlayoff_outlier.values,color=light,alpha=.4)\n",
    "\n",
    "ax.plot(fgYear_groupPlayoff.index,fgYear_groupPlayoff.values,label=\"Median FT Attempts\",color=dark,linewidth=1.8) #Need to fix the indices for now and make it look nice\n",
    "ax.fill_between(x=xx,y1=fgYear_groupPlayoff.values.min(),y2=fgYear_groupPlayoff.values,color=dark,alpha=.4)\n",
    "\n",
    "\n",
    "label = uniqueYear_playoff[0::5]\n",
    "ax.set_xticks(range(0,72,5))\n",
    "ax.set_xticklabels(label,rotation=45)\n",
    "ax.tick_params(axis='x',bottom=False)\n",
    "ax.tick_params(axis='y',left=False)\n",
    "\n",
    "# ax.vlines(x=28,ymin=fgYear_groupPlayoff.values.min(),ymax=fgYear_groupPlayoff_outlier.values.max(),color='#4E5961',alpha=.5,linewidth=1.4,linestyles='dotted',label=\"3pt Line Introduction\")\n",
    "\n",
    "\n",
    "ax.grid(color='grey', axis = 'y', linestyle='solid', linewidth=.35,alpha=.3)\n",
    "\n",
    "ax.spines['right'].set_visible(False)\n",
    "ax.spines['top'].set_visible(False)\n",
    "ax.spines['left'].set_visible(False)\n",
    "ax.spines['bottom'].set_visible(False)\n",
    "\n",
    "# plt.legend()\n",
    "plt.show()"
   ]
  },
  {
   "cell_type": "markdown",
   "metadata": {},
   "source": [
    "Playoff FG Percentage Plot"
   ]
  },
  {
   "cell_type": "code",
   "execution_count": null,
   "metadata": {},
   "outputs": [],
   "source": [
    "fgpYear_groupPlayoff = nbaPlayoff.groupby(\"Year\")[\"FG %\"].median()\n",
    "fgpYear_groupPlayoff_outlier = outlierDf_yoff.groupby(\"Year\")[\"FG %\"].median()\n",
    "\n",
    "fgpYear_groupPlayoff_outlier = outlierDf_yoff.groupby(\"Year\")[\"FG %\"].median()\n",
    "fgpYear_groupPlayoff = nbaPlayoff.groupby(\"Year\")[\"FG %\"].median()"
   ]
  },
  {
   "cell_type": "code",
   "execution_count": null,
   "metadata": {},
   "outputs": [],
   "source": [
    "fig,ax = plt.subplots(figsize=(10,8),)\n",
    "\n",
    "\n",
    "ax.plot(fgpYear_groupPlayoff.index,fgpYear_groupPlayoff.values,label=\"Regular FG %\",color=dark,linewidth=3) #Need to fix the indices for now and make it look nice\n",
    "# ax.set_title(\"Playoff FG%\")\n",
    "\n",
    "ax.plot(fgpYear_groupPlayoff_outlier.index,fgpYear_groupPlayoff_outlier.values,color=light,label=\"Outlier Player FG%\",linewidth=3,)\n",
    "\n",
    "\n",
    "\n",
    "label = uniqueYear_playoff[0::5]\n",
    "ax.set_xticks(range(0,72,5))\n",
    "ax.set_xticklabels(label,rotation=45)\n",
    "ax.tick_params(axis='x',bottom=False)\n",
    "ax.tick_params(axis='y',left=False)\n",
    "ax.set_yticks(np.arange(0,.81,.05))\n",
    "\n",
    "# ax.vlines(x=28,ymin=.7,ymax=1.0999999999,color='#B8B2B2',alpha=.8,linewidth=1.4,linestyles='dashed',label=\"3 Pt line Introduction\")\n",
    "\n",
    "ax.grid(color='grey', axis = 'y', linestyle='solid', linewidth=.35,alpha=.3)\n",
    "\n",
    "ax.spines['right'].set_visible(False)\n",
    "ax.spines['top'].set_visible(False)\n",
    "ax.spines['left'].set_visible(False)\n",
    "ax.spines['bottom'].set_visible(False)\n",
    "\n",
    "# plt.legend()\n",
    "plt.show()"
   ]
  },
  {
   "cell_type": "markdown",
   "metadata": {},
   "source": [
    "Playoff Ft % plot"
   ]
  },
  {
   "cell_type": "code",
   "execution_count": null,
   "metadata": {},
   "outputs": [],
   "source": [
    "fgpYear_groupPlayoff = nbaPlayoff.groupby(\"Year\")[\"FT %\"].median()\n",
    "fgpYear_groupPlayoff_outlier = outlierDf_yoff.groupby(\"Year\")[\"FT %\"].median()\n",
    "\n",
    "fgpYear_groupPlayoff_outlier = outlierDf_yoff.groupby(\"Year\")[\"FT %\"].median()\n",
    "fgpYear_groupPlayoff = nbaPlayoff.groupby(\"Year\")[\"FT %\"].median()"
   ]
  },
  {
   "cell_type": "code",
   "execution_count": null,
   "metadata": {},
   "outputs": [],
   "source": [
    "fig,ax = plt.subplots(figsize=(10,8),)\n",
    "\n",
    "red = \"#C9082A\"\n",
    "blue = \"#3719E0\"\n",
    "\n",
    "ax.plot(fgpYear_groupPlayoff.index,fgpYear_groupPlayoff.values,label=\"Regular FT %\",color=blue,linewidth=3) #Need to fix the indices for now and make it look nice\n",
    "# ax.set_title(\"Playoff FT%\")\n",
    "\n",
    "ax.plot(fgpYear_groupPlayoff_outlier.index,fgpYear_groupPlayoff_outlier.values,color=red,label=\"Outlier Player FG%\",linewidth=3,)\n",
    "\n",
    "\n",
    "label = uniqueYear_playoff[0::5]\n",
    "ax.set_xticks(range(0,72,5))\n",
    "ax.set_xticklabels(label,rotation=45)\n",
    "ax.tick_params(axis='x',bottom=False)\n",
    "ax.tick_params(axis='y',left=False)\n",
    "ax.set_yticks(np.arange(0,1.01,.05))\n",
    "\n",
    "# ax.vlines(x=28,ymin=.7,ymax=1.0999999999,color='#B8B2B2',alpha=.8,linewidth=1.4,linestyles='dashed',label=\"3 Pt line Introduction\")\n",
    "\n",
    "ax.grid(color='grey', axis = 'y', linestyle='solid', linewidth=.35,alpha=.3)\n",
    "\n",
    "ax.spines['right'].set_visible(False)\n",
    "ax.spines['top'].set_visible(False)\n",
    "ax.spines['left'].set_visible(False)\n",
    "ax.spines['bottom'].set_visible(False)\n",
    "\n",
    "# plt.legend()\n",
    "plt.show()"
   ]
  },
  {
   "cell_type": "markdown",
   "metadata": {},
   "source": [
    "Regular Season FG Percent Plot"
   ]
  },
  {
   "cell_type": "code",
   "execution_count": null,
   "metadata": {},
   "outputs": [],
   "source": [
    "fgpYear_group = nbaRegular.groupby(\"Year\")[\"FG %\"].median()\n",
    "fgpYear_group_outlier = outlierDf_reg.groupby(\"Year\")[\"FG %\"].median()\n",
    "\n",
    "fgpYear_group_outlier = outlierDf_reg.groupby(\"Year\")[\"FG %\"].median()\n",
    "fgpYear_group = nbaRegular.groupby(\"Year\")[\"FG %\"].median()"
   ]
  },
  {
   "cell_type": "code",
   "execution_count": null,
   "metadata": {},
   "outputs": [],
   "source": [
    "fig,ax = plt.subplots(figsize=(10,8),)\n",
    "\n",
    "red = \"#C9082A\"\n",
    "blue = \"#3719E0\"\n",
    "\n",
    "ax.plot(fgpYear_group.index,fgpYear_group.values,label=\"Regular FT %\",color=dark,linewidth=3) #Need to fix the indices for now and make it look nice\n",
    "# ax.set_title(\"Playoff FT%\")\n",
    "\n",
    "ax.plot(fgpYear_group_outlier.index,fgpYear_group_outlier.values,color=light,label=\"Outlier Player FG%\",linewidth=3,)\n",
    "\n",
    "label = uniqueYear_playoff[0::5]\n",
    "ax.set_xticks(range(0,72,5))\n",
    "ax.set_xticklabels(label,rotation=45)\n",
    "ax.tick_params(axis='x',bottom=False)\n",
    "ax.tick_params(axis='y',left=False)\n",
    "ax.set_yticks(np.arange(0.2,.8,.05))\n",
    "\n",
    "# ax.vlines(x=28,ymin=.7,ymax=1.0999999999,color='#B8B2B2',alpha=.8,linewidth=1.4,linestyles='dashed',label=\"3 Pt line Introduction\")\n",
    "\n",
    "ax.grid(color='grey', axis = 'y', linestyle='solid', linewidth=.35,alpha=.3)\n",
    "\n",
    "ax.spines['right'].set_visible(False)\n",
    "ax.spines['top'].set_visible(False)\n",
    "ax.spines['left'].set_visible(False)\n",
    "ax.spines['bottom'].set_visible(False)\n",
    "\n",
    "# plt.legend()\n",
    "plt.show()"
   ]
  },
  {
   "cell_type": "markdown",
   "metadata": {},
   "source": [
    "Regular Season FT %"
   ]
  },
  {
   "cell_type": "code",
   "execution_count": null,
   "metadata": {},
   "outputs": [],
   "source": [
    "fgpYear_group = nbaRegular.groupby(\"Year\")[\"FT %\"].median()\n",
    "fgpYear_group_outlier = outlierDf_reg.groupby(\"Year\")[\"FT %\"].median()\n",
    "\n",
    "fgpYear_group_outlier = outlierDf_reg.groupby(\"Year\")[\"FT %\"].median()\n",
    "fgpYear_group = nbaRegular.groupby(\"Year\")[\"FT %\"].median()"
   ]
  },
  {
   "cell_type": "code",
   "execution_count": null,
   "metadata": {},
   "outputs": [],
   "source": [
    "fig,ax = plt.subplots(figsize=(10,8),)\n",
    "\n",
    "red = \"#C9082A\"\n",
    "blue = \"#3719E0\"\n",
    "\n",
    "ax.plot(fgpYear_group.index,fgpYear_group.values,label=\"Regular FT %\",color=blue,linewidth=3) #Need to fix the indices for now and make it look nice\n",
    "# ax.set_title(\"Playoff FT%\")\n",
    "\n",
    "ax.plot(fgpYear_group_outlier.index,fgpYear_group_outlier.values,color=red,label=\"Outlier Player FG%\",linewidth=3,)\n",
    "\n",
    "label = uniqueYear_playoff[0::5]\n",
    "ax.set_xticks(range(0,72,5))\n",
    "ax.set_xticklabels(label,rotation=45)\n",
    "ax.tick_params(axis='x',bottom=False)\n",
    "ax.tick_params(axis='y',left=False)\n",
    "ax.set_yticks(np.arange(0,1.01,.05))\n",
    "\n",
    "# ax.vlines(x=28,ymin=.7,ymax=1.0999999999,color='#B8B2B2',alpha=.8,linewidth=1.4,linestyles='dashed',label=\"3 Pt line Introduction\")\n",
    "\n",
    "ax.grid(color='grey', axis = 'y', linestyle='solid', linewidth=.35,alpha=.3)\n",
    "\n",
    "ax.spines['right'].set_visible(False)\n",
    "ax.spines['top'].set_visible(False)\n",
    "ax.spines['left'].set_visible(False)\n",
    "ax.spines['bottom'].set_visible(False)\n",
    "\n",
    "# plt.legend()\n",
    "plt.show()"
   ]
  },
  {
   "cell_type": "markdown",
   "metadata": {},
   "source": [
    "StripPlot (Unused in Presentation, more for EDA) that help visualize what our player outliers \"look\" like in terms of Points Per Game."
   ]
  },
  {
   "cell_type": "code",
   "execution_count": null,
   "metadata": {},
   "outputs": [],
   "source": [
    "# corrDf = regularFGA_playerDF.loc[:,regularFGA_playerDF.drop([\"index\",\"Season Start Year\",\"Season Type\",\"Player ID\",\"Games Played\",\"Defensive Rebounds\",\"Assists\",\"Blocks\",\"Personal Fouls\",\"STL/TOV\",\"This Year 75% FGA/Game\",\"League-Wide Player 25% PPS this Year\",\"Player 90% PPS This Year\",\"Team PPS % above Median\",\"This Year 75% Team PPS Above Med\",'This Year Top 10 Team PPS Above Med'])]\n",
    "t=regularFGA_playerDF.columns\n",
    "corrDf = regularFGA_playerDF.drop(columns=[t[0],t[2],t[3]])"
   ]
  },
  {
   "cell_type": "code",
   "execution_count": null,
   "metadata": {},
   "outputs": [],
   "source": [
    "#StripPlot for PPG\n",
    "outGroup = outlierDf_reg.groupby(\"Year\")[\"This Player PPG\"]\n",
    "outMed = outlierDf_reg[\"This Player PPG\"].median()\n",
    "\n",
    "\n",
    "x_values = list(outGroup.groups.keys())\n",
    "\n",
    "yv = {}\n",
    "for yr in x_values:\n",
    "    yv[yr] = outGroup.get_group(yr)\n",
    "\n",
    "df = pd.DataFrame.from_dict(yv, orient='index').transpose()\n",
    "melted_df = df.melt(var_name='Year', value_name=\"Points Per Game\")\n",
    "\n",
    "total = 0\n",
    "for key in yv:\n",
    "    thisG = yv[key]\n",
    "    for val in thisG:\n",
    "        total+=1"
   ]
  },
  {
   "cell_type": "code",
   "execution_count": null,
   "metadata": {},
   "outputs": [],
   "source": [
    "fig,ax = plt.subplots(figsize=(11,6))\n",
    "\n",
    "xx = range(0,72)\n",
    "\n",
    "# label = uniqueYear_playoff[0::5]\n",
    "# ax.set_xticks(range(0,72,5))\n",
    "\n",
    "cmap = sns.color_palette(\"icefire\")\n",
    "cmapp = \"icefire\"\n",
    "ax.set_xticklabels(labels=nba[\"Year\"].unique(),rotation=90)\n",
    "ax.tick_params(axis='x',bottom=False)\n",
    "ax.tick_params(axis='y',left=False)\n",
    "sns.stripplot(data=melted_df, x='Year', y=\"Points Per Game\", jitter=True,palette=cmapp)\n",
    "\n",
    "ax.spines['right'].set_visible(False)\n",
    "ax.spines['top'].set_visible(False)\n",
    "ax.spines['left'].set_visible(False)\n",
    "ax.spines['bottom'].set_visible(False)\n",
    "\n",
    "plt.show()"
   ]
  },
  {
   "cell_type": "markdown",
   "metadata": {},
   "source": [
    "Presented StripPlot that Shows our Outliers are mostly 10% above the Median in PPS for their respective year"
   ]
  },
  {
   "cell_type": "code",
   "execution_count": null,
   "metadata": {},
   "outputs": [],
   "source": [
    "outGroup = outlierDf_reg.groupby(\"Year\")[\"Player PPS % above Median\"]\n",
    "# print(outGroup.groups.keys())\n",
    "\n",
    "# Create a list of x-axis values (years) from the dictionary keys\n",
    "x_values = list(outGroup.groups.keys())\n",
    "\n",
    "# Create a list of y-axis values (individual data points) from the dictionary values\n",
    "\n",
    "yv = {}\n",
    "for yr in x_values:\n",
    "    yv[yr] = outGroup.get_group(yr)\n",
    "\n",
    "df = pd.DataFrame.from_dict(yv, orient='index').transpose()\n",
    "melted_df = df.melt(var_name='Year', value_name=\"% Difference from year's PPS Median\")\n",
    "\n",
    "zCount = 0\n",
    "total = 0\n",
    "for key in yv:\n",
    "    thisG = yv[key]\n",
    "    for val in thisG:\n",
    "        total+=1\n",
    "        if val <=0:\n",
    "            zCount+=1"
   ]
  },
  {
   "cell_type": "code",
   "execution_count": null,
   "metadata": {},
   "outputs": [],
   "source": [
    "NonoutlierDf_reg = nbaRegular.loc[nbaRegular[\"Outlier Player\"]==False]\n",
    "NonoutlierDf_yoff = nbaPlayoff.loc[nbaPlayoff[\"Outlier Player\"]==False]\n",
    "\n",
    "rows_to_remove = np.where(NonoutlierDf_reg[\"Player PPS % above Median\"] >=90)\n",
    "# Removing the specified rows from the DataFrame\n",
    "NonoutlierDf_reg = NonoutlierDf_reg.drop(NonoutlierDf_reg.index[rows_to_remove[0]])\n",
    "\n",
    "\n",
    "#StripPlot for PPG\n",
    "NonoutGroup = NonoutlierDf_reg.groupby(\"Year\")[\"Player PPS % above Median\"]\n",
    "NonoutMed = NonoutlierDf_reg[\"This Player PPG\"].median()\n",
    "\n",
    "\n",
    "Nonx_values = list(outGroup.groups.keys())\n",
    "\n",
    "Nonyv = {}\n",
    "for yr in Nonx_values:\n",
    "    Nonyv[yr] = NonoutGroup.get_group(yr)\n",
    "\n",
    "Nondf = pd.DataFrame.from_dict(Nonyv, orient='index').transpose()\n",
    "Nonmelted_df = Nondf.melt(var_name='Year', value_name=\"% Difference from year's PPS Median\")\n",
    "\n",
    "Nontotal = 0\n",
    "for key in yv:\n",
    "    NonthisG = yv[key]\n",
    "    for val in thisG:\n",
    "        Nontotal+=1"
   ]
  },
  {
   "cell_type": "code",
   "execution_count": null,
   "metadata": {},
   "outputs": [],
   "source": [
    "fig,ax = plt.subplots(figsize=(11,6))\n",
    "\n",
    "xx = range(0,72)\n",
    "\n",
    "\n",
    "#Textbook % of values below median\n",
    "\n",
    "# label = uniqueYear_playoff[0::5]\n",
    "# ax.set_xticks(range(0,72,5))\n",
    "cmap = sns.color_palette(\"flare\",) #Repeats colors versus not\n",
    "cmapp = \"flare\"\n",
    "ax.set_xticklabels(labels=nba[\"Year\"].unique(),rotation=90)\n",
    "ax.tick_params(axis='x',bottom=False)\n",
    "ax.tick_params(axis='y',left=False)\n",
    "\n",
    "ax.hlines(y=0,xmin=0,xmax=72,color='#017580',alpha=0.6,linewidth=2.5,label=\"Median\")  #.7\n",
    "# sns.stripplot(data=Nonmelted_df, x='Year', y=\"% Difference from year's PPS Median\", jitter=True,color=\"#89a0b0\",alpha=.3) #.5\n",
    "sns.stripplot(data=melted_df, x='Year', y=\"% Difference from year's PPS Median\", jitter=True,palette=cmapp,alpha=.7) #.5\n",
    "\n",
    "\n",
    "ax.spines['right'].set_visible(False)\n",
    "ax.spines['top'].set_visible(False)\n",
    "ax.spines['left'].set_visible(False)\n",
    "ax.spines['bottom'].set_visible(False)\n",
    "\n",
    "plt.show()"
   ]
  },
  {
   "cell_type": "markdown",
   "metadata": {},
   "source": [
    "More EDA on just outlier players"
   ]
  },
  {
   "cell_type": "code",
   "execution_count": null,
   "metadata": {},
   "outputs": [],
   "source": [
    "print(\"Regualar season outlier info:\\n\")\n",
    "outlierDf_reg.info()\n"
   ]
  },
  {
   "cell_type": "code",
   "execution_count": null,
   "metadata": {},
   "outputs": [],
   "source": [
    "print(\"Playoff outlier info:\\n\")\n",
    "outlierDf_yoff.info()"
   ]
  },
  {
   "cell_type": "code",
   "execution_count": null,
   "metadata": {},
   "outputs": [],
   "source": [
    "#FTA correlation with rank across all years\n",
    "ftCorr = outlierDf_reg.corr()\n",
    "\n",
    "#set figure size\n",
    "fig, ax = plt.subplots(figsize=(20,9))\n",
    "ax.set_title(\"Correlation of for outlier players only, during the Regular Season\",fontsize=14,weight=\"bold\")\n",
    "\n",
    "\n",
    "#plot heatmap\n",
    "sns.heatmap(ftCorr)"
   ]
  },
  {
   "cell_type": "code",
   "execution_count": null,
   "metadata": {},
   "outputs": [],
   "source": [
    "print(\"Regular season outlier player raw correlations with FT Attempts\\n\\n\")\n",
    "\n",
    "\n",
    "regFTCorr_outlier= outlierDf_reg.corr()[\"FT Attempts\"]\n",
    "regFTCorr_outlier"
   ]
  },
  {
   "cell_type": "code",
   "execution_count": null,
   "metadata": {},
   "outputs": [],
   "source": [
    "print(\"Regular season outlier player correlation with\\nBoolean value, 'if the team is an outlier in pps'\\n\\n\")\n",
    "\n",
    "outlierDf_reg.corr()[\"Team Outlier in PPS\"]\n"
   ]
  },
  {
   "cell_type": "code",
   "execution_count": null,
   "metadata": {},
   "outputs": [],
   "source": [
    "#FTA correlation with rank across all years\n",
    "\n",
    "ftCorr = outlierDf_yoff.corr()\n",
    "\n",
    "#set figure size\n",
    "fig, ax = plt.subplots(figsize=(20,9))\n",
    "ax.set_title(\"Correlation of for outlier players only, during the playoff\",fontsize=14,weight=\"bold\")\n",
    "\n",
    "#plot heatmap\n",
    "sns.heatmap(ftCorr)"
   ]
  },
  {
   "cell_type": "code",
   "execution_count": null,
   "metadata": {},
   "outputs": [],
   "source": [
    "print(\"Playoff outlier player raw correlations with FT Attempts\\n\\n\")\n",
    "\n",
    "\n",
    "yoffFTCorr_outlier= outlierDf_yoff.corr()[\"FT Attempts\"]\n",
    "yoffFTCorr_outlier"
   ]
  },
  {
   "cell_type": "code",
   "execution_count": null,
   "metadata": {},
   "outputs": [],
   "source": [
    "print(\"Playoff outlier player correlation with\\nBoolean value, 'if the team is an outlier in pps'\\n\\n\")\n",
    "\n",
    "outlierDf_yoff.corr()[\"Team Outlier in PPS\"]"
   ]
  },
  {
   "cell_type": "markdown",
   "metadata": {},
   "source": [
    "Plot on team wins that are top 10 in revenue"
   ]
  },
  {
   "cell_type": "code",
   "execution_count": null,
   "metadata": {},
   "outputs": [],
   "source": [
    "nykWin = (47)/(82)\n",
    "lalWin = (43)/(82)\n",
    "chiWin = (40)/(82)\n",
    "gswWin = (44)/(82)\n",
    "houWin = (20)/(82)\n",
    "mkwWin = (58)/(82)\n",
    "bknWin = .54 #found percentage data\n",
    "dmvWin = .46\n",
    "lacWin = .52\n",
    "bosWin = .69\n",
    "\n",
    "avgWinpct = (bosWin + lacWin + dmvWin + bknWin + mkwWin + houWin + gswWin + chiWin + lalWin + nykWin)/10"
   ]
  },
  {
   "cell_type": "code",
   "execution_count": null,
   "metadata": {},
   "outputs": [],
   "source": [
    "\n",
    "vals=[nykWin, lalWin, chiWin, gswWin, houWin, mkwWin,bknWin,dmvWin,lacWin,bosWin, 0.35, 0.38, 0.35, 0.51, 0.45,0.39,0.35,0.48,0.51,.42,0.41,0.37,0.34,0.43,0.39,0.24,0.41,0.31,0.53,0.57,0.43,0.42]\n",
    "print(len(vals))\n"
   ]
  },
  {
   "cell_type": "code",
   "execution_count": null,
   "metadata": {},
   "outputs": [],
   "source": [
    "fig, ax = plt.subplots()\n",
    "sns.set_style(\"white\")\n",
    "sns.color_palette(\"rocket\", as_cmap=True)\n",
    "sns.distplot(vals, hist=True, kde=True,\n",
    "             hist_kws={\"color\": \"#8EB9ED\", \"alpha\": .45},  # Histogram color\n",
    "             kde_kws={\"color\":\"#104A73\", \"lw\": 2})   \n",
    "ax.scatter(avgWinpct,2.7,s=100,c=\"#EDB707\")\n",
    "ax.text(.64,2.7,\"Top 10 Revenue Teams \\n won over 50% of \\n their games in 2022\",fontsize=9,fontname='serif',color='black',bbox=dict(facecolor='#EDB707', edgecolor='grey'))\n",
    "ax.hlines(y=2.7,xmin=avgWinpct,xmax=.64,color='#EDB707',linewidth=5,alpha=0.4, clip_on=False)\n",
    "\n",
    "ax.spines['right'].set_visible(False)\n",
    "ax.spines['top'].set_visible(False)\n",
    "ax.spines['left'].set_visible(False)\n",
    "ax.spines['bottom'].set_visible(False)\n",
    "\n",
    "plt.show()"
   ]
  },
  {
   "cell_type": "markdown",
   "metadata": {},
   "source": [
    "External links used"
   ]
  },
  {
   "cell_type": "code",
   "execution_count": null,
   "metadata": {},
   "outputs": [],
   "source": [
    "nbaRevenuelink = \"https://www.cnbc.com/2021/10/18/nba-2021-2022-season-10-billion-revenue-tv-viewership-rebound.html\"\n",
    "linkforWins2022 = \"https://www.nba.com/standings\"\n",
    "\"https://www.forbes.com/sites/mikeozanian/2022/10/27/nba-team-values-2022-for-the-first-time-in-two-decades-the-top-spot-goes-to-a-franchise-thats-not-the-knicks-or-lakers/?sh=1923f1911cce\""
   ]
  },
  {
   "cell_type": "code",
   "execution_count": null,
   "metadata": {},
   "outputs": [],
   "source": [
    "# nbaRegular.to_excel(r\"/Users/obtin/Desktop/GradSchool/MSDS593/MSDS593_Final/nbaStats/nbaRegular_full.xlsx\", index=False)\n",
    "# nbaPlayoff.to_excel(r\"/Users/obtin/Desktop/GradSchool/MSDS593/MSDS593_Final/nbaStats/nbaPlayoff_full.xlsx\", index=False)"
   ]
  }
 ],
 "metadata": {
  "kernelspec": {
   "display_name": "base",
   "language": "python",
   "name": "python3"
  },
  "language_info": {
   "codemirror_mode": {
    "name": "ipython",
    "version": 3
   },
   "file_extension": ".py",
   "mimetype": "text/x-python",
   "name": "python",
   "nbconvert_exporter": "python",
   "pygments_lexer": "ipython3",
   "version": "3.11.3"
  },
  "orig_nbformat": 4
 },
 "nbformat": 4,
 "nbformat_minor": 2
}
